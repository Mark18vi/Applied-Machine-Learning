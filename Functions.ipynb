{
 "cells": [
  {
   "cell_type": "code",
   "execution_count": null,
   "metadata": {},
   "outputs": [],
   "source": [
    "# Functions"
   ]
  },
  {
   "cell_type": "code",
   "execution_count": null,
   "metadata": {},
   "outputs": [],
   "source": []
  },
  {
   "cell_type": "code",
   "execution_count": null,
   "metadata": {},
   "outputs": [],
   "source": [
    "- Functions are a group of code that perform a particular task\n",
    "- The functions make code organised\n",
    "\n",
    "def func_name(para):\n",
    "    \"\"\"\n",
    "    statements\n",
    "    \"\"\"\n",
    "    return statement"
   ]
  },
  {
   "cell_type": "code",
   "execution_count": 10,
   "metadata": {},
   "outputs": [],
   "source": [
    "####\n",
    "\n",
    "def get_username(name):\n",
    "    \n",
    "    \"\"\" \n",
    "    This functions takes the input and displays on screen\n",
    "    \"\"\"\n",
    "    print(\"Hello there! \"+str(name))"
   ]
  },
  {
   "cell_type": "code",
   "execution_count": 11,
   "metadata": {},
   "outputs": [
    {
     "name": "stdout",
     "output_type": "stream",
     "text": [
      "Hello there! Lamdad\n"
     ]
    }
   ],
   "source": [
    "get_username('Lamdad')"
   ]
  },
  {
   "cell_type": "code",
   "execution_count": 14,
   "metadata": {},
   "outputs": [
    {
     "name": "stdout",
     "output_type": "stream",
     "text": [
      " \n",
      "    This functions takes the input and displays on screen\n",
      "    \n"
     ]
    }
   ],
   "source": [
    "print(get_username.__doc__)  # 2 under scores"
   ]
  },
  {
   "cell_type": "code",
   "execution_count": 15,
   "metadata": {},
   "outputs": [],
   "source": [
    "# Return statement\n",
    "\n",
    "def summ(lst):\n",
    "    \"\"\"\n",
    "    This fun returns us sum of the list\n",
    "    \"\"\"\n",
    "    count = 0\n",
    "    for n in lst:\n",
    "        count +=n\n",
    "        \n",
    "    return count    "
   ]
  },
  {
   "cell_type": "code",
   "execution_count": 16,
   "metadata": {},
   "outputs": [
    {
     "data": {
      "text/plain": [
       "15"
      ]
     },
     "execution_count": 16,
     "metadata": {},
     "output_type": "execute_result"
    }
   ],
   "source": [
    "summ([1,3,5,6])"
   ]
  },
  {
   "cell_type": "code",
   "execution_count": 22,
   "metadata": {},
   "outputs": [],
   "source": [
    "## Function that returns HCF of two numbers\n",
    "\n",
    "def hcf(a,b):\n",
    "    \n",
    "    smaller = b if a>b else a\n",
    "    gcf = 1\n",
    "    for i in range(1,smaller+1):\n",
    "        if(a%i ==0)and(b%i==0):\n",
    "            gcf = i\n",
    "            \n",
    "    return gcf        "
   ]
  },
  {
   "cell_type": "code",
   "execution_count": 24,
   "metadata": {},
   "outputs": [
    {
     "data": {
      "text/plain": [
       "5"
      ]
     },
     "execution_count": 24,
     "metadata": {},
     "output_type": "execute_result"
    }
   ],
   "source": [
    "hcf(15,20)"
   ]
  },
  {
   "cell_type": "code",
   "execution_count": 25,
   "metadata": {},
   "outputs": [],
   "source": [
    "# Types of Functions\n",
    "- Built-in\n",
    "- User defined"
   ]
  },
  {
   "cell_type": "code",
   "execution_count": 27,
   "metadata": {},
   "outputs": [
    {
     "name": "stdout",
     "output_type": "stream",
     "text": [
      "123\n"
     ]
    }
   ],
   "source": [
    "n = -123\n",
    "print(abs(n))"
   ]
  },
  {
   "cell_type": "code",
   "execution_count": 28,
   "metadata": {},
   "outputs": [
    {
     "name": "stdout",
     "output_type": "stream",
     "text": [
      "True\n"
     ]
    }
   ],
   "source": [
    "# all()                  # return True/False by checking whether 0 is present in iterable or not\n",
    "\n",
    "n = [1,2,3,4]            # If all elements are true i.e., >0 the true else False\n",
    "print(all(n))"
   ]
  },
  {
   "cell_type": "code",
   "execution_count": 29,
   "metadata": {},
   "outputs": [
    {
     "name": "stdout",
     "output_type": "stream",
     "text": [
      "False\n"
     ]
    }
   ],
   "source": [
    "n = [0,1,2,3,4]\n",
    "print(all(n))"
   ]
  },
  {
   "cell_type": "code",
   "execution_count": 31,
   "metadata": {},
   "outputs": [
    {
     "name": "stdout",
     "output_type": "stream",
     "text": [
      "True\n"
     ]
    }
   ],
   "source": [
    "n = []\n",
    "print(all(n))"
   ]
  },
  {
   "cell_type": "code",
   "execution_count": 33,
   "metadata": {},
   "outputs": [
    {
     "name": "stdout",
     "output_type": "stream",
     "text": [
      "False\n"
     ]
    }
   ],
   "source": [
    "n = [False,2,3,4]\n",
    "print(all(n))"
   ]
  },
  {
   "cell_type": "code",
   "execution_count": 34,
   "metadata": {},
   "outputs": [
    {
     "name": "stdout",
     "output_type": "stream",
     "text": [
      "['__add__', '__class__', '__contains__', '__delattr__', '__delitem__', '__dir__', '__doc__', '__eq__', '__format__', '__ge__', '__getattribute__', '__getitem__', '__gt__', '__hash__', '__iadd__', '__imul__', '__init__', '__init_subclass__', '__iter__', '__le__', '__len__', '__lt__', '__mul__', '__ne__', '__new__', '__reduce__', '__reduce_ex__', '__repr__', '__reversed__', '__rmul__', '__setattr__', '__setitem__', '__sizeof__', '__str__', '__subclasshook__', 'append', 'clear', 'copy', 'count', 'extend', 'index', 'insert', 'pop', 'remove', 'reverse', 'sort']\n"
     ]
    }
   ],
   "source": [
    "# dir()\n",
    "\n",
    "lst = []                                        # returns all the methods that associated to that datatype\n",
    "print(dir(lst))"
   ]
  },
  {
   "cell_type": "code",
   "execution_count": 35,
   "metadata": {},
   "outputs": [
    {
     "name": "stdout",
     "output_type": "stream",
     "text": [
      "(4, 1)\n"
     ]
    }
   ],
   "source": [
    "print(divmod(9,2))      # returns the quotient and remainder"
   ]
  },
  {
   "cell_type": "code",
   "execution_count": 36,
   "metadata": {},
   "outputs": [
    {
     "name": "stdout",
     "output_type": "stream",
     "text": [
      "The index value is 0 and the iterated value is 1\n",
      "The index value is 1 and the iterated value is 2\n",
      "The index value is 2 and the iterated value is 3\n",
      "The index value is 3 and the iterated value is 4\n"
     ]
    }
   ],
   "source": [
    "n = [1,2,3,4]\n",
    "for index,num in enumerate(n):\n",
    "    print(f\"The index value is {index} and the iterated value is {num}\")"
   ]
  },
  {
   "cell_type": "code",
   "execution_count": 37,
   "metadata": {},
   "outputs": [
    {
     "name": "stdout",
     "output_type": "stream",
     "text": [
      "The index value is 4 and the iterated value is 1\n",
      "The index value is 5 and the iterated value is 2\n",
      "The index value is 6 and the iterated value is 3\n",
      "The index value is 7 and the iterated value is 4\n"
     ]
    }
   ],
   "source": [
    "n = [1,2,3,4]\n",
    "for index,num in enumerate(n,4):                     # default index starts from 0, we can change it to any and the first is iterable\n",
    "    print(f\"The index value is {index} and the iterated value is {num}\")"
   ]
  },
  {
   "cell_type": "code",
   "execution_count": 38,
   "metadata": {},
   "outputs": [],
   "source": [
    "def find_positive(num):\n",
    "    \"\"\"\n",
    "    This returns positive number\n",
    "    \"\"\"\n",
    "    if(num>0):\n",
    "        return num"
   ]
  },
  {
   "cell_type": "code",
   "execution_count": 41,
   "metadata": {},
   "outputs": [
    {
     "name": "stdout",
     "output_type": "stream",
     "text": [
      "range(-10, 10)\n",
      "[-10, -9, -8, -7, -6, -5, -4, -3, -2, -1, 0, 1, 2, 3, 4, 5, 6, 7, 8, 9]\n",
      "--------------------------------------\n",
      "[1, 2, 3, 4, 5, 6, 7, 8, 9]\n"
     ]
    }
   ],
   "source": [
    "num_list = range(-10,10)\n",
    "print(num_list)\n",
    "print(list(num_list))\n",
    "print(\"--------------------------------------\")\n",
    "\n",
    "positive_num = list(filter(find_positive,num_list)) # filter out and get output which takes condition or fun like\n",
    "                                                    #filter(cond/fun, iterable)\n",
    "print(positive_num)"
   ]
  },
  {
   "cell_type": "code",
   "execution_count": 43,
   "metadata": {},
   "outputs": [
    {
     "name": "stdout",
     "output_type": "stream",
     "text": [
      "True\n",
      "False\n"
     ]
    }
   ],
   "source": [
    "                                              # isinstance()\n",
    "    \n",
    "n = [1,2,3,4]\n",
    "print(isinstance(n,list))               # isinstance(input, verfier/cond)\n",
    "\n",
    "n = (1,2,3,4)\n",
    "print(isinstance(n,list))  "
   ]
  },
  {
   "cell_type": "code",
   "execution_count": 44,
   "metadata": {},
   "outputs": [
    {
     "name": "stdout",
     "output_type": "stream",
     "text": [
      "[1, 4, 9, 16]\n"
     ]
    }
   ],
   "source": [
    "                                              # map()\n",
    "    \n",
    "n = [1,2,3,4]\n",
    "\n",
    "def sqaures(num):\n",
    "    return num**2\n",
    "\n",
    "new = list(map(sqaures,n))                  # Map takes a condition/fun with iterable and provide output\n",
    "print(new)"
   ]
  },
  {
   "cell_type": "code",
   "execution_count": 45,
   "metadata": {},
   "outputs": [
    {
     "name": "stdout",
     "output_type": "stream",
     "text": [
      "24\n"
     ]
    }
   ],
   "source": [
    "                                            ## reduce()\n",
    "\n",
    "### Product of list of element (classic way)\n",
    "\n",
    "n = [1,2,3,4]\n",
    "mul = 1\n",
    "for i in n:\n",
    "    mul *= i\n",
    "print(mul)    \n",
    "    "
   ]
  },
  {
   "cell_type": "code",
   "execution_count": 46,
   "metadata": {},
   "outputs": [
    {
     "name": "stdout",
     "output_type": "stream",
     "text": [
      "24\n"
     ]
    }
   ],
   "source": [
    "from functools import reduce\n",
    "\n",
    "def multi(x,y):\n",
    "    return x*y\n",
    "\n",
    "prod = reduce(multi,n)\n",
    "print(prod)"
   ]
  },
  {
   "cell_type": "code",
   "execution_count": 47,
   "metadata": {},
   "outputs": [],
   "source": [
    "###########################################"
   ]
  },
  {
   "cell_type": "code",
   "execution_count": 48,
   "metadata": {},
   "outputs": [],
   "source": [
    "## Functon arguments\n",
    "\n",
    "def deter(a,b):\n",
    "    print(\"The function output is{} and {}\".format(a,b))"
   ]
  },
  {
   "cell_type": "code",
   "execution_count": 52,
   "metadata": {},
   "outputs": [
    {
     "name": "stdout",
     "output_type": "stream",
     "text": [
      "The function output is andy and Hello\n"
     ]
    }
   ],
   "source": [
    "deter(' andy','Hello')"
   ]
  },
  {
   "cell_type": "code",
   "execution_count": 53,
   "metadata": {},
   "outputs": [],
   "source": [
    "def deter(a,b=\"hello\"):                                       # default arguments provides better performace or less errors\n",
    "    print(\"The function output is{} and {}\".format(a,b))"
   ]
  },
  {
   "cell_type": "code",
   "execution_count": 55,
   "metadata": {},
   "outputs": [
    {
     "name": "stdout",
     "output_type": "stream",
     "text": [
      "The function output is Andy and Hey\n",
      "The function output is Andy and hello\n"
     ]
    }
   ],
   "source": [
    "deter(\" Andy\",\"Hey\")\n",
    "deter(\" Andy\")"
   ]
  },
  {
   "cell_type": "code",
   "execution_count": 57,
   "metadata": {},
   "outputs": [
    {
     "name": "stdout",
     "output_type": "stream",
     "text": [
      "Hello Nand,Hai\n"
     ]
    }
   ],
   "source": [
    "## Keyword arguments\n",
    "\n",
    "def greet(**kwargs):\n",
    "    \"\"\"\n",
    "    Takes multiple args and provides out\n",
    "    \"\"\"\n",
    "    if kwargs:\n",
    "        print(\"Hello {},{}\".format(kwargs['name'],kwargs['msg']))\n",
    "        \n",
    "greet(name = 'Nand',msg = 'Hai')        "
   ]
  },
  {
   "cell_type": "code",
   "execution_count": 3,
   "metadata": {},
   "outputs": [],
   "source": [
    "# Lambda/ Anonymous functions"
   ]
  },
  {
   "cell_type": "code",
   "execution_count": null,
   "metadata": {},
   "outputs": [],
   "source": []
  },
  {
   "cell_type": "code",
   "execution_count": 1,
   "metadata": {},
   "outputs": [
    {
     "name": "stdout",
     "output_type": "stream",
     "text": [
      "25\n"
     ]
    }
   ],
   "source": [
    "double = lambda x : x**2\n",
    "print(double(5))"
   ]
  },
  {
   "cell_type": "code",
   "execution_count": null,
   "metadata": {},
   "outputs": [],
   "source": [
    "##"
   ]
  }
 ],
 "metadata": {
  "kernelspec": {
   "display_name": "Python 3",
   "language": "python",
   "name": "python3"
  },
  "language_info": {
   "codemirror_mode": {
    "name": "ipython",
    "version": 3
   },
   "file_extension": ".py",
   "mimetype": "text/x-python",
   "name": "python",
   "nbconvert_exporter": "python",
   "pygments_lexer": "ipython3",
   "version": "3.6.9"
  }
 },
 "nbformat": 4,
 "nbformat_minor": 2
}
