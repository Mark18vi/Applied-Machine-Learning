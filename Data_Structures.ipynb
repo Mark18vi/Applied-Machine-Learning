{
 "cells": [
  {
   "cell_type": "code",
   "execution_count": 4,
   "metadata": {},
   "outputs": [],
   "source": [
    "# Lists"
   ]
  },
  {
   "cell_type": "code",
   "execution_count": 5,
   "metadata": {},
   "outputs": [],
   "source": [
    "## is a data structures"
   ]
  },
  {
   "cell_type": "code",
   "execution_count": 13,
   "metadata": {},
   "outputs": [
    {
     "ename": "SyntaxError",
     "evalue": "invalid syntax (<ipython-input-13-56b4fad524d2>, line 2)",
     "output_type": "error",
     "traceback": [
      "\u001b[0;36m  File \u001b[0;32m\"<ipython-input-13-56b4fad524d2>\"\u001b[0;36m, line \u001b[0;32m2\u001b[0m\n\u001b[0;31m    1.list is one of the sequenced data structure\u001b[0m\n\u001b[0m         ^\u001b[0m\n\u001b[0;31mSyntaxError\u001b[0m\u001b[0;31m:\u001b[0m invalid syntax\n"
     ]
    }
   ],
   "source": [
    "#\n",
    "1.list is one of the sequenced data structure\n",
    "- List stores different data-types\n",
    "- List is enclosed in [] & in list each value is assigned with index\n",
    "- List are mutable"
   ]
  },
  {
   "cell_type": "code",
   "execution_count": 16,
   "metadata": {},
   "outputs": [
    {
     "name": "stdout",
     "output_type": "stream",
     "text": [
      "[[1, 3], ['a', 'b'], [1, 'c']]\n",
      "[1, 4.3, 'new', True]\n"
     ]
    }
   ],
   "source": [
    "# Creating a List\n",
    "empty_list = []\n",
    "lst1 = ['human','Alien','Homosapien', 'Giant']#String list\n",
    "lst2 = [1,2,3,4] # integer list\n",
    "lst3 = [[1,3],['a','b'],[1,'c']] # List in list\n",
    "lst4 = [1,4.3,'new', True] # List with different data\n",
    "print(lst3)\n",
    "print(lst4)"
   ]
  },
  {
   "cell_type": "code",
   "execution_count": 17,
   "metadata": {},
   "outputs": [
    {
     "name": "stdout",
     "output_type": "stream",
     "text": [
      "4\n"
     ]
    }
   ],
   "source": [
    "# List length\n",
    "lste1 = [1,2,3,'red']\n",
    "print(len(lste1))"
   ]
  },
  {
   "cell_type": "code",
   "execution_count": 20,
   "metadata": {},
   "outputs": [
    {
     "name": "stdout",
     "output_type": "stream",
     "text": [
      "[1, 2, 3, 'red', 'Blue', 'Blue', 'Blue', 'Blue']\n"
     ]
    }
   ],
   "source": [
    "#Append to list\n",
    "lste1.append('Blue') # adds item at end\n",
    "print(lste1)"
   ]
  },
  {
   "cell_type": "code",
   "execution_count": 21,
   "metadata": {},
   "outputs": [
    {
     "name": "stdout",
     "output_type": "stream",
     "text": [
      "[1, 2, 3, 'red', 'Blue', 'Blue', 'Heyyo', 'Blue', 'Blue']\n"
     ]
    }
   ],
   "source": [
    "#List Insert \n",
    "lste1.insert(6,'Heyyo') # adds item at indexed position\n",
    "print(lste1)"
   ]
  },
  {
   "cell_type": "code",
   "execution_count": 22,
   "metadata": {},
   "outputs": [
    {
     "name": "stdout",
     "output_type": "stream",
     "text": [
      "[1, 2, 3, 'red', 'Blue', 'Blue', 'Heyyo', 'Blue']\n"
     ]
    }
   ],
   "source": [
    "#List POP\n",
    "lste1.pop() # removes the last item in the list\n",
    "print(lste1)"
   ]
  },
  {
   "cell_type": "code",
   "execution_count": 23,
   "metadata": {},
   "outputs": [
    {
     "name": "stdout",
     "output_type": "stream",
     "text": [
      "[1, 2, 3, 'red', 'Blue', 'Heyyo', 'Blue']\n"
     ]
    }
   ],
   "source": [
    "#Remove from the list\n",
    "lste1.remove('Blue') # Removes the first occurance\n",
    "print(lste1)"
   ]
  },
  {
   "cell_type": "code",
   "execution_count": 24,
   "metadata": {},
   "outputs": [
    {
     "name": "stdout",
     "output_type": "stream",
     "text": [
      "[1, 2, 3, 4, ['abc', 'red']]\n"
     ]
    }
   ],
   "source": [
    "#Append & Extend in List\n",
    "lst1 = [1,2,3,4]\n",
    "lst2 = ['abc','red']\n",
    "lst1.append(lst2) # It appended lst2 in lst1\n",
    "print(lst1)"
   ]
  },
  {
   "cell_type": "code",
   "execution_count": 25,
   "metadata": {},
   "outputs": [
    {
     "name": "stdout",
     "output_type": "stream",
     "text": [
      "[1, 2, 3, 4, 'abc', 'red']\n"
     ]
    }
   ],
   "source": [
    "lst1 = [1,2,3,4]\n",
    "lst2 = ['abc','red']\n",
    "lst1.extend(lst2) # It extended using data from lst2 in lst1\n",
    "print(lst1)"
   ]
  },
  {
   "cell_type": "code",
   "execution_count": 27,
   "metadata": {},
   "outputs": [
    {
     "name": "stdout",
     "output_type": "stream",
     "text": [
      "[1, 3]\n"
     ]
    }
   ],
   "source": [
    "# List Delete\n",
    "\n",
    "lst1 = [1,2,3]\n",
    "del lst1[1] #deletes element from specific index\n",
    "print(lst1)"
   ]
  },
  {
   "cell_type": "code",
   "execution_count": 28,
   "metadata": {},
   "outputs": [],
   "source": [
    "##########################################"
   ]
  },
  {
   "cell_type": "code",
   "execution_count": 29,
   "metadata": {},
   "outputs": [],
   "source": [
    "#List related keywords for operations"
   ]
  },
  {
   "cell_type": "code",
   "execution_count": 31,
   "metadata": {},
   "outputs": [
    {
     "name": "stdout",
     "output_type": "stream",
     "text": [
      "It is here\n",
      "It is not in here\n"
     ]
    }
   ],
   "source": [
    "lst2 = [1,'dear','sup',True]\n",
    "\n",
    "if 1 in lst2:\n",
    "    print('It is here')\n",
    "if 'new' not in lst2:\n",
    "    print('It is not in here')"
   ]
  },
  {
   "cell_type": "code",
   "execution_count": 32,
   "metadata": {},
   "outputs": [
    {
     "name": "stdout",
     "output_type": "stream",
     "text": [
      "[4, 3, 2, 1]\n"
     ]
    }
   ],
   "source": [
    "#List Reverse\n",
    "lst3 = [1,2,3,4]\n",
    "lst3.reverse() # Reverses the list\n",
    "print(lst3)"
   ]
  },
  {
   "cell_type": "code",
   "execution_count": 33,
   "metadata": {},
   "outputs": [],
   "source": [
    "#List Sorting"
   ]
  },
  {
   "cell_type": "code",
   "execution_count": 36,
   "metadata": {},
   "outputs": [
    {
     "name": "stdout",
     "output_type": "stream",
     "text": [
      "[1, 2, 3, 4, 6]\n",
      "[1, 6, 3, 4, 2]\n",
      "######################\n",
      "[6, 4, 3, 2, 1]\n"
     ]
    }
   ],
   "source": [
    "lst4 = [1,6,3,4,2]\n",
    "new_lst = sorted(lst4)\n",
    "print(new_lst)\n",
    "print(lst4)\n",
    "print(\"######################\")\n",
    "new_lst2 = sorted(lst4,reverse = True)\n",
    "print(new_lst2)"
   ]
  },
  {
   "cell_type": "code",
   "execution_count": 37,
   "metadata": {},
   "outputs": [
    {
     "name": "stdout",
     "output_type": "stream",
     "text": [
      "[1, 2, 3.7, 4, 6]\n"
     ]
    }
   ],
   "source": [
    "lst4 = [1,6,3.7,4,2]\n",
    "lst4.sort()\n",
    "print(lst4) # sorts and stores in same list"
   ]
  },
  {
   "cell_type": "code",
   "execution_count": 38,
   "metadata": {},
   "outputs": [
    {
     "ename": "TypeError",
     "evalue": "'<' not supported between instances of 'str' and 'float'",
     "output_type": "error",
     "traceback": [
      "\u001b[0;31m---------------------------------------------------------------------------\u001b[0m",
      "\u001b[0;31mTypeError\u001b[0m                                 Traceback (most recent call last)",
      "\u001b[0;32m<ipython-input-38-b64cd44c6dcb>\u001b[0m in \u001b[0;36m<module>\u001b[0;34m\u001b[0m\n\u001b[1;32m      1\u001b[0m \u001b[0mlst4\u001b[0m \u001b[0;34m=\u001b[0m \u001b[0;34m[\u001b[0m\u001b[0;36m1\u001b[0m\u001b[0;34m,\u001b[0m\u001b[0;36m6\u001b[0m\u001b[0;34m,\u001b[0m\u001b[0;36m3.4\u001b[0m\u001b[0;34m,\u001b[0m\u001b[0;36m2\u001b[0m\u001b[0;34m,\u001b[0m\u001b[0;34m'red'\u001b[0m\u001b[0;34m]\u001b[0m\u001b[0;34m\u001b[0m\u001b[0;34m\u001b[0m\u001b[0m\n\u001b[0;32m----> 2\u001b[0;31m \u001b[0mlst4\u001b[0m\u001b[0;34m.\u001b[0m\u001b[0msort\u001b[0m\u001b[0;34m(\u001b[0m\u001b[0;34m)\u001b[0m\u001b[0;34m\u001b[0m\u001b[0;34m\u001b[0m\u001b[0m\n\u001b[0m\u001b[1;32m      3\u001b[0m \u001b[0mprint\u001b[0m\u001b[0;34m(\u001b[0m\u001b[0mlst4\u001b[0m\u001b[0;34m)\u001b[0m\u001b[0;34m\u001b[0m\u001b[0;34m\u001b[0m\u001b[0m\n",
      "\u001b[0;31mTypeError\u001b[0m: '<' not supported between instances of 'str' and 'float'"
     ]
    }
   ],
   "source": [
    "lst4 = [1,6,3.4,2,'red']\n",
    "lst4.sort()\n",
    "print(lst4)"
   ]
  },
  {
   "cell_type": "code",
   "execution_count": 40,
   "metadata": {},
   "outputs": [
    {
     "name": "stdout",
     "output_type": "stream",
     "text": [
      "[1, 6, 3, 4, 2, 'ad']\n"
     ]
    }
   ],
   "source": [
    "#List Having Multiple reference\n",
    "lst4 = [1,6,3,4,2]\n",
    "lst = lst4\n",
    "lst.append('ad')\n",
    "print(lst4)"
   ]
  },
  {
   "cell_type": "code",
   "execution_count": 41,
   "metadata": {},
   "outputs": [],
   "source": [
    "#List Slicing"
   ]
  },
  {
   "cell_type": "code",
   "execution_count": 46,
   "metadata": {},
   "outputs": [
    {
     "name": "stdout",
     "output_type": "stream",
     "text": [
      "[1, 6, 3, 4, 2, 5]\n",
      "--------------------\n",
      "[1, 6, 3, 4]\n",
      "---------------\n",
      "[1, 6, 3, 4]\n",
      "---------------\n",
      "[1, 3, 2]\n",
      "---------------\n",
      "[1, 3, 2]\n",
      "------------------\n",
      "[5, 2, 4, 3, 6, 1]\n",
      "---------------\n"
     ]
    }
   ],
   "source": [
    "lst = [1,6,3,4,2,5]\n",
    "print(lst[:])\n",
    "print('--------------------')\n",
    "print(lst[0:4])\n",
    "print('---------------')\n",
    "print(lst[:4])\n",
    "print('---------------')\n",
    "print(lst[::2])\n",
    "print('---------------')\n",
    "print(lst[0::2])\n",
    "print('------------------')\n",
    "print(lst[::-1])\n",
    "print('---------------')"
   ]
  },
  {
   "cell_type": "code",
   "execution_count": 52,
   "metadata": {},
   "outputs": [
    {
     "name": "stdout",
     "output_type": "stream",
     "text": [
      "[3, 6, 3, 4, 2, 5, 3, 6, 3, 4, 2, 5]\n"
     ]
    }
   ],
   "source": [
    "lst = [1,6,3,4,2,5]\n",
    "lst = [3,6,3,4,2,5]\n",
    "new_lst = lst+lst\n",
    "print(new_lst)"
   ]
  },
  {
   "cell_type": "code",
   "execution_count": 55,
   "metadata": {},
   "outputs": [
    {
     "name": "stdout",
     "output_type": "stream",
     "text": [
      "[1, 6, 3, 4, 2, 5, 3, 6, 3, 4, 2, 5]\n"
     ]
    }
   ],
   "source": [
    "lst = [1,6,3,4,2,5]\n",
    "lst1 = [3,6,3,4,2,5]\n",
    "new_lst = lst + lst1\n",
    "print(new_lst)"
   ]
  },
  {
   "cell_type": "code",
   "execution_count": 56,
   "metadata": {},
   "outputs": [],
   "source": [
    "# List Count"
   ]
  },
  {
   "cell_type": "code",
   "execution_count": 60,
   "metadata": {},
   "outputs": [
    {
     "name": "stdout",
     "output_type": "stream",
     "text": [
      "2\n",
      "1\n"
     ]
    }
   ],
   "source": [
    "lst = [1,6,3,2,4,2,5,1]\n",
    "print(lst.count(1))\n",
    "print(lst.count(3))#displays frequency of specific value"
   ]
  },
  {
   "cell_type": "code",
   "execution_count": 61,
   "metadata": {},
   "outputs": [],
   "source": [
    "##"
   ]
  },
  {
   "cell_type": "code",
   "execution_count": 62,
   "metadata": {},
   "outputs": [],
   "source": [
    "# List Comprehension"
   ]
  },
  {
   "cell_type": "code",
   "execution_count": 63,
   "metadata": {},
   "outputs": [
    {
     "name": "stdout",
     "output_type": "stream",
     "text": [
      "[0, 1, 4, 9, 16, 25, 36, 49, 64, 81]\n"
     ]
    }
   ],
   "source": [
    "sqr = []\n",
    "for i in range(10):\n",
    "    sqr.append(i**2)\n",
    "print(sqr) # without list comprehension    "
   ]
  },
  {
   "cell_type": "code",
   "execution_count": 64,
   "metadata": {},
   "outputs": [
    {
     "name": "stdout",
     "output_type": "stream",
     "text": [
      "[0, 1, 4, 9, 16, 25, 36, 49, 64, 81]\n"
     ]
    }
   ],
   "source": [
    "sqr = [i**2 for i in range(10)]\n",
    "print(sqr) # Using list comprehension"
   ]
  },
  {
   "cell_type": "code",
   "execution_count": 69,
   "metadata": {},
   "outputs": [
    {
     "name": "stdout",
     "output_type": "stream",
     "text": [
      "[[1, 6, 2], [2, 7, 3], [3, 8, 5], [4, 9, 6]]\n"
     ]
    }
   ],
   "source": [
    "#Transpose of a matrix\n",
    "matrix = [\n",
    "    [1,2,3,4],[6,7,8,9],[2,3,5,6]]\n",
    "transposes = [[row[i] for row in matrix] for i in range(4)] # Using lst comprehension\n",
    "print(transposes)"
   ]
  },
  {
   "cell_type": "code",
   "execution_count": 70,
   "metadata": {},
   "outputs": [],
   "source": [
    "# TUPLE"
   ]
  },
  {
   "cell_type": "code",
   "execution_count": null,
   "metadata": {},
   "outputs": [],
   "source": [
    "- Tuples are immutable\n",
    "- "
   ]
  },
  {
   "cell_type": "code",
   "execution_count": 72,
   "metadata": {},
   "outputs": [
    {
     "name": "stdout",
     "output_type": "stream",
     "text": [
      "(1, (1, 2, 3), [3, 4, 'av'])\n"
     ]
    }
   ],
   "source": [
    "tple = () # Empty tuple\n",
    "tple1 = (1,2,3)\n",
    "tple2 = ('a','b')\n",
    "tple3 = (1,2,3.4,'ab')\n",
    "t = (1,(1,2,3),[3,4,'av'])\n",
    "print(t)"
   ]
  },
  {
   "cell_type": "code",
   "execution_count": 76,
   "metadata": {},
   "outputs": [
    {
     "name": "stdout",
     "output_type": "stream",
     "text": [
      "<class 'str'>\n",
      "---------------\n",
      "<class 'tuple'>\n",
      "---------------\n",
      "<class 'tuple'>\n",
      "------------------------\n",
      "<class 'tuple'>\n"
     ]
    }
   ],
   "source": [
    "tup = ('name') # recognises as string\n",
    "print(type(tup))\n",
    "print(\"---------------\")\n",
    "tup1 = ('name',) #recognises as tuple\n",
    "print(type(tup1))\n",
    "print(\"---------------\")\n",
    "tup2 = 'name',\n",
    "print(type(tup2))\n",
    "print(\"------------------------\")\n",
    "tup3 = ('name','new_name')\n",
    "print(type(tup3))"
   ]
  },
  {
   "cell_type": "code",
   "execution_count": 80,
   "metadata": {},
   "outputs": [
    {
     "name": "stdout",
     "output_type": "stream",
     "text": [
      "4\n",
      "(5, 6)\n",
      "(2, 3, 4)\n",
      "(3, 4, (5, 6))\n",
      "(2, 3, 4, (5, 6), 'ab')\n"
     ]
    }
   ],
   "source": [
    "#Slicing\n",
    "\n",
    "t = (2,3,4,(5,6),'ab')\n",
    "print(t[2]) #we can only slice and get output \n",
    "print(t[3])\n",
    "print(t[:3])\n",
    "print(t[1:4])\n",
    "print(t) #the value of original tuple won't change"
   ]
  },
  {
   "cell_type": "code",
   "execution_count": 81,
   "metadata": {},
   "outputs": [
    {
     "ename": "TypeError",
     "evalue": "'tuple' object does not support item assignment",
     "output_type": "error",
     "traceback": [
      "\u001b[0;31m---------------------------------------------------------------------------\u001b[0m",
      "\u001b[0;31mTypeError\u001b[0m                                 Traceback (most recent call last)",
      "\u001b[0;32m<ipython-input-81-c36f02a1cfed>\u001b[0m in \u001b[0;36m<module>\u001b[0;34m\u001b[0m\n\u001b[1;32m      1\u001b[0m \u001b[0mt\u001b[0m \u001b[0;34m=\u001b[0m \u001b[0;34m(\u001b[0m\u001b[0;36m2\u001b[0m\u001b[0;34m,\u001b[0m\u001b[0;36m3\u001b[0m\u001b[0;34m,\u001b[0m\u001b[0;36m4\u001b[0m\u001b[0;34m,\u001b[0m\u001b[0;34m(\u001b[0m\u001b[0;36m5\u001b[0m\u001b[0;34m,\u001b[0m\u001b[0;36m6\u001b[0m\u001b[0;34m)\u001b[0m\u001b[0;34m,\u001b[0m\u001b[0;34m'ab'\u001b[0m\u001b[0;34m)\u001b[0m\u001b[0;34m\u001b[0m\u001b[0;34m\u001b[0m\u001b[0m\n\u001b[0;32m----> 2\u001b[0;31m \u001b[0mt\u001b[0m\u001b[0;34m[\u001b[0m\u001b[0;36m2\u001b[0m\u001b[0;34m]\u001b[0m \u001b[0;34m=\u001b[0m \u001b[0;36m7\u001b[0m\u001b[0;34m\u001b[0m\u001b[0;34m\u001b[0m\u001b[0m\n\u001b[0m",
      "\u001b[0;31mTypeError\u001b[0m: 'tuple' object does not support item assignment"
     ]
    }
   ],
   "source": [
    "t = (2,3,4,(5,6),'ab')\n",
    "t[2] = 7"
   ]
  },
  {
   "cell_type": "code",
   "execution_count": 82,
   "metadata": {},
   "outputs": [
    {
     "name": "stdout",
     "output_type": "stream",
     "text": [
      "(2, 3, 4, 1, 2, 3)\n"
     ]
    }
   ],
   "source": [
    "t = (2,3,4) + (1,2,3)\n",
    "print(t) #concatination"
   ]
  },
  {
   "cell_type": "code",
   "execution_count": 83,
   "metadata": {},
   "outputs": [
    {
     "name": "stdout",
     "output_type": "stream",
     "text": [
      "(2, 3, 2, [1, 'ans', 'bas'])\n"
     ]
    }
   ],
   "source": [
    "t1 = (2,3,2,[1,'ans',2])\n",
    "t1[3][2]='bas'\n",
    "print(t1)"
   ]
  },
  {
   "cell_type": "code",
   "execution_count": 85,
   "metadata": {},
   "outputs": [
    {
     "name": "stdout",
     "output_type": "stream",
     "text": [
      "('sanj', 'sanj', 'sanj', 'sanj')\n"
     ]
    }
   ],
   "source": [
    "t1 = (('sanj',)*4)\n",
    "print(t1)"
   ]
  },
  {
   "cell_type": "code",
   "execution_count": 2,
   "metadata": {},
   "outputs": [
    {
     "name": "stdout",
     "output_type": "stream",
     "text": [
      "(1, 2, 3, 4, 5)\n"
     ]
    }
   ],
   "source": [
    "# Tuple deletion\n",
    "t = (1,2,3,4,5)\n",
    "print(t)\n",
    "del t\n",
    "#print(t) # shows error T is not defined as it is deleted"
   ]
  },
  {
   "cell_type": "code",
   "execution_count": 3,
   "metadata": {},
   "outputs": [
    {
     "data": {
      "text/plain": [
       "1"
      ]
     },
     "execution_count": 3,
     "metadata": {},
     "output_type": "execute_result"
    }
   ],
   "source": [
    "# Tuple Count\n",
    "t = (1,2,3,4,4,5,5,6,7)\n",
    "t.count(3) # Shows number of times repeated "
   ]
  },
  {
   "cell_type": "code",
   "execution_count": 4,
   "metadata": {},
   "outputs": [
    {
     "data": {
      "text/plain": [
       "3"
      ]
     },
     "execution_count": 4,
     "metadata": {},
     "output_type": "execute_result"
    }
   ],
   "source": [
    "# Tuple Index\n",
    "t = (1,2,3,4,4,5,5,6,4,7)\n",
    "t.index(4) # returns index of the value"
   ]
  },
  {
   "cell_type": "code",
   "execution_count": 5,
   "metadata": {},
   "outputs": [
    {
     "name": "stdout",
     "output_type": "stream",
     "text": [
      "True\n",
      "False\n"
     ]
    }
   ],
   "source": [
    "                            #Tuple membership\n",
    "\n",
    "t = (1,2,3,4,4,5,5,6,7)\n",
    "print(4 in t)\n",
    "print(4 not in t)"
   ]
  },
  {
   "cell_type": "code",
   "execution_count": 7,
   "metadata": {},
   "outputs": [
    {
     "data": {
      "text/plain": [
       "9"
      ]
     },
     "execution_count": 7,
     "metadata": {},
     "output_type": "execute_result"
    }
   ],
   "source": [
    "                                # Tuple length\n",
    "\n",
    "t = (1,2,3,4,4,5,5,6,7)\n",
    "len(t)"
   ]
  },
  {
   "cell_type": "code",
   "execution_count": 12,
   "metadata": {},
   "outputs": [
    {
     "name": "stdout",
     "output_type": "stream",
     "text": [
      "(1, 2, 9, 4, 4, 5, 5, 6, 7)\n",
      "[1, 2, 4, 4, 5, 5, 6, 7, 9]\n"
     ]
    }
   ],
   "source": [
    "                                #Tuple sort\n",
    "t = (1,2,9,4,4,5,5,6,7)\n",
    "new = sorted(t)\n",
    "print(t)\n",
    "print(new)"
   ]
  },
  {
   "cell_type": "code",
   "execution_count": 15,
   "metadata": {},
   "outputs": [
    {
     "name": "stdout",
     "output_type": "stream",
     "text": [
      "7\n",
      "1\n",
      "37\n"
     ]
    }
   ],
   "source": [
    "                               # Tuple operations\n",
    "t = (1,2,3,4,4,5,5,6,7)\n",
    "print(max(t))\n",
    "print(min(t))\n",
    "print(sum(t))"
   ]
  },
  {
   "cell_type": "code",
   "execution_count": 16,
   "metadata": {},
   "outputs": [],
   "source": [
    "# SETS"
   ]
  },
  {
   "cell_type": "code",
   "execution_count": null,
   "metadata": {},
   "outputs": [],
   "source": [
    "-sets are unordered collection of items with no duplicates\n",
    "- mutable\n",
    "- sets can perform mathematical operations like union,intersection ar symmetric devison"
   ]
  },
  {
   "cell_type": "code",
   "execution_count": 17,
   "metadata": {},
   "outputs": [
    {
     "name": "stdout",
     "output_type": "stream",
     "text": [
      "{1, 2, 4, 5, 7}\n"
     ]
    }
   ],
   "source": [
    "st = {1,4,2,7,5,2}\n",
    "print(st)"
   ]
  },
  {
   "cell_type": "code",
   "execution_count": 18,
   "metadata": {},
   "outputs": [
    {
     "name": "stdout",
     "output_type": "stream",
     "text": [
      "<class 'set'>\n"
     ]
    }
   ],
   "source": [
    "print(type(st))"
   ]
  },
  {
   "cell_type": "code",
   "execution_count": 20,
   "metadata": {},
   "outputs": [
    {
     "ename": "TypeError",
     "evalue": "'set' object is not subscriptable",
     "output_type": "error",
     "traceback": [
      "\u001b[0;31m---------------------------------------------------------------------------\u001b[0m",
      "\u001b[0;31mTypeError\u001b[0m                                 Traceback (most recent call last)",
      "\u001b[0;32m<ipython-input-20-2e684fca4816>\u001b[0m in \u001b[0;36m<module>\u001b[0;34m\u001b[0m\n\u001b[1;32m      2\u001b[0m \u001b[0;34m\u001b[0m\u001b[0m\n\u001b[1;32m      3\u001b[0m \u001b[0mt\u001b[0m \u001b[0;34m=\u001b[0m \u001b[0;34m{\u001b[0m\u001b[0;36m1\u001b[0m\u001b[0;34m,\u001b[0m\u001b[0;36m2\u001b[0m\u001b[0;34m,\u001b[0m\u001b[0;36m3\u001b[0m\u001b[0;34m,\u001b[0m\u001b[0;36m4\u001b[0m\u001b[0;34m,\u001b[0m\u001b[0;36m4\u001b[0m\u001b[0;34m,\u001b[0m\u001b[0;36m5\u001b[0m\u001b[0;34m,\u001b[0m\u001b[0;36m5\u001b[0m\u001b[0;34m,\u001b[0m\u001b[0;36m6\u001b[0m\u001b[0;34m,\u001b[0m\u001b[0;36m7\u001b[0m\u001b[0;34m}\u001b[0m\u001b[0;34m\u001b[0m\u001b[0;34m\u001b[0m\u001b[0m\n\u001b[0;32m----> 4\u001b[0;31m \u001b[0mprint\u001b[0m\u001b[0;34m(\u001b[0m\u001b[0mt\u001b[0m\u001b[0;34m[\u001b[0m\u001b[0;36m3\u001b[0m\u001b[0;34m]\u001b[0m\u001b[0;34m)\u001b[0m\u001b[0;34m\u001b[0m\u001b[0;34m\u001b[0m\u001b[0m\n\u001b[0m",
      "\u001b[0;31mTypeError\u001b[0m: 'set' object is not subscriptable"
     ]
    }
   ],
   "source": [
    "                            # Add elements to sets\n",
    "\n",
    "t = {1,2,3,4,4,5,5,6,7}\n",
    "print(t[3]) #Set does not support indexing"
   ]
  },
  {
   "cell_type": "code",
   "execution_count": 22,
   "metadata": {},
   "outputs": [
    {
     "name": "stdout",
     "output_type": "stream",
     "text": [
      "{1, 2, 3, 4, 5, 6, 7}\n"
     ]
    }
   ],
   "source": [
    "                                 # Add elements\n",
    "t = {1,2,3,4,4,5,5,6,7}\n",
    "t.add(7)\n",
    "print(t)\n",
    "\n",
    "# Add multipe items"
   ]
  },
  {
   "cell_type": "code",
   "execution_count": 25,
   "metadata": {},
   "outputs": [
    {
     "name": "stdout",
     "output_type": "stream",
     "text": [
      "{1, 2, 3, 4, 5, 6, 7, 9}\n",
      "{1, 2, 3, 4, 5, 6, 7, 9}\n"
     ]
    }
   ],
   "source": [
    "                            # Python Set Operation\n",
    "t1 = {1,2,3,4,4,5,5,6,7}\n",
    "t2 = {1,4,9,4,4,5,5,6,7}\n",
    "\n",
    "print(t1 | t2)\n",
    "\n",
    "print(t1.union(t2))"
   ]
  },
  {
   "cell_type": "code",
   "execution_count": 1,
   "metadata": {},
   "outputs": [],
   "source": [
    "# Dictionaries"
   ]
  },
  {
   "cell_type": "code",
   "execution_count": null,
   "metadata": {},
   "outputs": [],
   "source": [
    "- Dictionaries is a unordered collection of items.\n",
    "-(Tuple)&[List] are ordered colloection, we can index and get items\n",
    "- {Set}&{Dict:naries} are unordered collection"
   ]
  },
  {
   "cell_type": "code",
   "execution_count": 10,
   "metadata": {},
   "outputs": [
    {
     "name": "stdout",
     "output_type": "stream",
     "text": [
      "{1: 'abc', 2: 'reb'}\n",
      "<class 'dict'>\n"
     ]
    }
   ],
   "source": [
    "my_dict = {1:'abc', 2:'reb'}                          #dictionaries with key and value\n",
    "print(my_dict)\n",
    "print(type(my_dict))"
   ]
  },
  {
   "cell_type": "code",
   "execution_count": 11,
   "metadata": {},
   "outputs": [
    {
     "name": "stdout",
     "output_type": "stream",
     "text": [
      "{'a': [1, 2, 'abc'], 1: 'abc'}\n",
      "<class 'dict'>\n"
     ]
    }
   ],
   "source": [
    "myDict = {'a':[1,2,'abc'],1:'abc'}                    # dictionaries can store multiple types of data\n",
    "print(myDict)\n",
    "#print(size(myDict))\n",
    "print(type(myDict))"
   ]
  },
  {
   "cell_type": "code",
   "execution_count": 12,
   "metadata": {},
   "outputs": [
    {
     "name": "stdout",
     "output_type": "stream",
     "text": [
      "{}\n",
      "<class 'dict'>\n"
     ]
    }
   ],
   "source": [
    "my_dict = dict()                                       #Empty dictionary\n",
    "print(my_dict)\n",
    "print(type(my_dict))"
   ]
  },
  {
   "cell_type": "code",
   "execution_count": 13,
   "metadata": {},
   "outputs": [
    {
     "name": "stdout",
     "output_type": "stream",
     "text": [
      "{}\n",
      "<class 'dict'>\n"
     ]
    }
   ],
   "source": [
    "my_dict = {}                                           #Empty dictionary\n",
    "print(my_dict)\n",
    "print(type(my_dict))"
   ]
  },
  {
   "cell_type": "code",
   "execution_count": 18,
   "metadata": {},
   "outputs": [
    {
     "ename": "SyntaxError",
     "evalue": "invalid syntax (<ipython-input-18-ccf034c7a6b6>, line 2)",
     "output_type": "error",
     "traceback": [
      "\u001b[0;36m  File \u001b[0;32m\"<ipython-input-18-ccf034c7a6b6>\"\u001b[0;36m, line \u001b[0;32m2\u001b[0m\n\u001b[0;31m    new_dict = dict([(1:'abc'),(2:'bcd'),('abc':12)])\u001b[0m\n\u001b[0m                       ^\u001b[0m\n\u001b[0;31mSyntaxError\u001b[0m\u001b[0;31m:\u001b[0m invalid syntax\n"
     ]
    }
   ],
   "source": [
    "new_dict = {[(1,'abc'),(2,'bcd'),('abc',12)]}\n",
    "#new_dict = dict([(1:'abc'),(2:'bcd'),('abc':12)])\n",
    "print(new_dict)                                         # Wrong usage of tuples in dictionaries\n",
    "print(type(new_dict))"
   ]
  },
  {
   "cell_type": "code",
   "execution_count": 16,
   "metadata": {},
   "outputs": [
    {
     "name": "stdout",
     "output_type": "stream",
     "text": [
      "{1: 'abc', 2: 'bcd', 'abc': 12}\n",
      "<class 'dict'>\n"
     ]
    }
   ],
   "source": [
    "new_dict = dict([(1,'abc'),(2,'bcd'),('abc',12)])           #correct usage of tuples\n",
    "print(new_dict)\n",
    "print(type(new_dict))"
   ]
  },
  {
   "cell_type": "code",
   "execution_count": 19,
   "metadata": {},
   "outputs": [],
   "source": [
    " # Accessing data from Dict"
   ]
  },
  {
   "cell_type": "code",
   "execution_count": 24,
   "metadata": {},
   "outputs": [
    {
     "name": "stdout",
     "output_type": "stream",
     "text": [
      "{'Name': 'Amandeil', 'DOJ': '20-20.02'}\n",
      "Amandeil\n"
     ]
    }
   ],
   "source": [
    "employee_info = {'Name':'Amandeil', 'DOJ':'20-20.02'}\n",
    "print(employee_info)\n",
    "print(employee_info['Name'])"
   ]
  },
  {
   "cell_type": "code",
   "execution_count": 25,
   "metadata": {},
   "outputs": [
    {
     "ename": "KeyError",
     "evalue": "'DOE'",
     "output_type": "error",
     "traceback": [
      "\u001b[0;31m---------------------------------------------------------------------------\u001b[0m",
      "\u001b[0;31mKeyError\u001b[0m                                  Traceback (most recent call last)",
      "\u001b[0;32m<ipython-input-25-0d4af175fec1>\u001b[0m in \u001b[0;36m<module>\u001b[0;34m\u001b[0m\n\u001b[1;32m      1\u001b[0m \u001b[0memployee_info\u001b[0m \u001b[0;34m=\u001b[0m \u001b[0;34m{\u001b[0m\u001b[0;34m'Name'\u001b[0m\u001b[0;34m:\u001b[0m\u001b[0;34m'Amandeil'\u001b[0m\u001b[0;34m,\u001b[0m \u001b[0;34m'DOJ'\u001b[0m\u001b[0;34m:\u001b[0m\u001b[0;34m'20-20.02'\u001b[0m\u001b[0;34m}\u001b[0m\u001b[0;34m\u001b[0m\u001b[0;34m\u001b[0m\u001b[0m\n\u001b[0;32m----> 2\u001b[0;31m \u001b[0mprint\u001b[0m\u001b[0;34m(\u001b[0m\u001b[0memployee_info\u001b[0m\u001b[0;34m[\u001b[0m\u001b[0;34m'DOE'\u001b[0m\u001b[0;34m]\u001b[0m\u001b[0;34m)\u001b[0m\u001b[0;34m\u001b[0m\u001b[0;34m\u001b[0m\u001b[0m\n\u001b[0m",
      "\u001b[0;31mKeyError\u001b[0m: 'DOE'"
     ]
    }
   ],
   "source": [
    "employee_info = {'Name':'Amandeil', 'DOJ':'20-20.02'}\n",
    "print(employee_info['DOE'])                                    # Key Error"
   ]
  },
  {
   "cell_type": "code",
   "execution_count": 31,
   "metadata": {},
   "outputs": [
    {
     "data": {
      "text/plain": [
       "'Amandeil'"
      ]
     },
     "execution_count": 31,
     "metadata": {},
     "output_type": "execute_result"
    }
   ],
   "source": [
    "employee_info.get('Name')                                 # Another way of accessing data"
   ]
  },
  {
   "cell_type": "code",
   "execution_count": 32,
   "metadata": {},
   "outputs": [
    {
     "name": "stdout",
     "output_type": "stream",
     "text": [
      "Amandeil\n"
     ]
    }
   ],
   "source": [
    "print(employee_info.get('Name'))"
   ]
  },
  {
   "cell_type": "code",
   "execution_count": 33,
   "metadata": {},
   "outputs": [
    {
     "name": "stdout",
     "output_type": "stream",
     "text": [
      "None\n"
     ]
    }
   ],
   "source": [
    "print(employee_info.get('DOE'))                         # Another way accessing error"
   ]
  },
  {
   "cell_type": "code",
   "execution_count": 34,
   "metadata": {},
   "outputs": [],
   "source": [
    "# Add & Remove from dictionary"
   ]
  },
  {
   "cell_type": "code",
   "execution_count": 35,
   "metadata": {},
   "outputs": [
    {
     "name": "stdout",
     "output_type": "stream",
     "text": [
      "{'Name': 'Amandeil', 'DOJ': '20-20.02'}\n",
      "{'Name': 'Nathaniel', 'DOJ': '20-20.02'}\n"
     ]
    }
   ],
   "source": [
    "employee_info = {'Name':'Amandeil', 'DOJ':'20-20.02'}   # Update information into list\n",
    "print(employee_info)\n",
    "employee_info['Name']='Nathaniel'\n",
    "print(employee_info)"
   ]
  },
  {
   "cell_type": "code",
   "execution_count": 38,
   "metadata": {},
   "outputs": [
    {
     "name": "stdout",
     "output_type": "stream",
     "text": [
      "{'Name': 'Amandeil', 'DOJ': '20-20.02'}\n",
      "{'Name': 'Amandeil', 'DOJ': '20-20.02', 'DOE': '12.12.21', 'PR': '81%'}\n"
     ]
    }
   ],
   "source": [
    "employee_info = {'Name':'Amandeil', 'DOJ':'20-20.02'}    # Adding new key & Value to dictionary\n",
    "print(employee_info)\n",
    "employee_info['DOE']='12.12.21'\n",
    "employee_info['PR']='81%'\n",
    "print(employee_info)"
   ]
  },
  {
   "cell_type": "code",
   "execution_count": 39,
   "metadata": {},
   "outputs": [
    {
     "name": "stdout",
     "output_type": "stream",
     "text": [
      "{'Name': 'Amandeil', 'DOJ': '20-20.02', 'DOE': '12.12.21'}\n"
     ]
    }
   ],
   "source": [
    "employee_info.pop('PR')                                  # Deleting element\n",
    "print(employee_info)"
   ]
  },
  {
   "cell_type": "code",
   "execution_count": 41,
   "metadata": {},
   "outputs": [
    {
     "name": "stdout",
     "output_type": "stream",
     "text": [
      "{'Name': 'Amandeil'}\n",
      "{}\n"
     ]
    }
   ],
   "source": [
    "employee_info.popitem()                                 # Removes random element\n",
    "print(employee_info)\n",
    "employee_info.popitem()                                 # Removes random element and no key required\n",
    "print(employee_info)"
   ]
  },
  {
   "cell_type": "code",
   "execution_count": 44,
   "metadata": {},
   "outputs": [
    {
     "name": "stdout",
     "output_type": "stream",
     "text": [
      "{1: 'abc', 5: 7, 11: 13}\n"
     ]
    }
   ],
   "source": [
    "new_dic = { 1:'abc',2:3,5:7,11:13}\n",
    "#del new_dic['2']     # deletes element show error\n",
    "del new_dic[2]            # deletes particular element\n",
    "print(new_dic)"
   ]
  },
  {
   "cell_type": "code",
   "execution_count": 46,
   "metadata": {},
   "outputs": [
    {
     "name": "stdout",
     "output_type": "stream",
     "text": [
      "{}\n"
     ]
    }
   ],
   "source": [
    "new_dic.clear()                                       # Removes all the items\n",
    "print(new_dic)"
   ]
  },
  {
   "cell_type": "code",
   "execution_count": 48,
   "metadata": {},
   "outputs": [
    {
     "ename": "NameError",
     "evalue": "name 'new_dic' is not defined",
     "output_type": "error",
     "traceback": [
      "\u001b[0;31m---------------------------------------------------------------------------\u001b[0m",
      "\u001b[0;31mNameError\u001b[0m                                 Traceback (most recent call last)",
      "\u001b[0;32m<ipython-input-48-a82aaed44026>\u001b[0m in \u001b[0;36m<module>\u001b[0;34m\u001b[0m\n\u001b[1;32m      1\u001b[0m \u001b[0mnew_dic\u001b[0m \u001b[0;34m=\u001b[0m \u001b[0;34m{\u001b[0m \u001b[0;36m1\u001b[0m\u001b[0;34m:\u001b[0m\u001b[0;34m'abc'\u001b[0m\u001b[0;34m,\u001b[0m\u001b[0;36m2\u001b[0m\u001b[0;34m:\u001b[0m\u001b[0;36m3\u001b[0m\u001b[0;34m,\u001b[0m\u001b[0;36m5\u001b[0m\u001b[0;34m:\u001b[0m\u001b[0;36m7\u001b[0m\u001b[0;34m,\u001b[0m\u001b[0;36m11\u001b[0m\u001b[0;34m:\u001b[0m\u001b[0;36m13\u001b[0m\u001b[0;34m}\u001b[0m\u001b[0;34m\u001b[0m\u001b[0;34m\u001b[0m\u001b[0m\n\u001b[1;32m      2\u001b[0m \u001b[0;32mdel\u001b[0m \u001b[0mnew_dic\u001b[0m\u001b[0;34m\u001b[0m\u001b[0;34m\u001b[0m\u001b[0m\n\u001b[0;32m----> 3\u001b[0;31m \u001b[0mprint\u001b[0m\u001b[0;34m(\u001b[0m\u001b[0mnew_dic\u001b[0m\u001b[0;34m)\u001b[0m\u001b[0;34m\u001b[0m\u001b[0;34m\u001b[0m\u001b[0m\n\u001b[0m",
      "\u001b[0;31mNameError\u001b[0m: name 'new_dic' is not defined"
     ]
    }
   ],
   "source": [
    "new_dic = { 1:'abc',2:3,5:7,11:13}\n",
    "del new_dic\n",
    "print(new_dic)                                 "
   ]
  },
  {
   "cell_type": "code",
   "execution_count": 49,
   "metadata": {},
   "outputs": [
    {
     "name": "stdout",
     "output_type": "stream",
     "text": [
      "{'Name': 'Amandeil', 'DOJ': '20-20.02'}\n"
     ]
    }
   ],
   "source": [
    "                                    ## Dictionary methods\n",
    "\n",
    "employee_info = {'Name':'Amandeil', 'DOJ':'20-20.02'} \n",
    "user_info = employee_info.copy()\n",
    "print(user_info)    "
   ]
  },
  {
   "cell_type": "code",
   "execution_count": 51,
   "metadata": {},
   "outputs": [
    {
     "name": "stdout",
     "output_type": "stream",
     "text": [
      "{'Sci': 2, 'ENG': 2, 'Hin': 2}\n"
     ]
    }
   ],
   "source": [
    "sub = {}.fromkeys(['Sci','ENG','Hin'],2)\n",
    "print(sub)"
   ]
  },
  {
   "cell_type": "code",
   "execution_count": 52,
   "metadata": {},
   "outputs": [
    {
     "name": "stdout",
     "output_type": "stream",
     "text": [
      "dict_items([(1, 'abc'), (2, 3), (5, 7), (11, 13)])\n"
     ]
    }
   ],
   "source": [
    "new_dic = { 1:'abc',2:3,5:7,11:13}                      # provides us values in the form of tuples in a list\n",
    "print(new_dic.items())"
   ]
  },
  {
   "cell_type": "code",
   "execution_count": 53,
   "metadata": {},
   "outputs": [
    {
     "name": "stdout",
     "output_type": "stream",
     "text": [
      "dict_keys([1, 2, 5, 11])\n"
     ]
    }
   ],
   "source": [
    "new_dic = { 1:'abc',2:3,5:7,11:13}\n",
    "print(new_dic.keys())"
   ]
  },
  {
   "cell_type": "code",
   "execution_count": 54,
   "metadata": {},
   "outputs": [
    {
     "name": "stdout",
     "output_type": "stream",
     "text": [
      "dict_values(['abc', 3, 7, 13])\n"
     ]
    }
   ],
   "source": [
    "new_dic = { 1:'abc',2:3,5:7,11:13}\n",
    "print(new_dic.values())"
   ]
  },
  {
   "cell_type": "code",
   "execution_count": 55,
   "metadata": {},
   "outputs": [
    {
     "name": "stdout",
     "output_type": "stream",
     "text": [
      "['__class__', '__contains__', '__delattr__', '__delitem__', '__dir__', '__doc__', '__eq__', '__format__', '__ge__', '__getattribute__', '__getitem__', '__gt__', '__hash__', '__init__', '__init_subclass__', '__iter__', '__le__', '__len__', '__lt__', '__ne__', '__new__', '__reduce__', '__reduce_ex__', '__repr__', '__setattr__', '__setitem__', '__sizeof__', '__str__', '__subclasshook__', 'clear', 'copy', 'fromkeys', 'get', 'items', 'keys', 'pop', 'popitem', 'setdefault', 'update', 'values']\n"
     ]
    }
   ],
   "source": [
    "dicti = {}\n",
    "print(dir(dicti))"
   ]
  },
  {
   "cell_type": "code",
   "execution_count": 56,
   "metadata": {},
   "outputs": [],
   "source": [
    " # dict comprehension"
   ]
  },
  {
   "cell_type": "code",
   "execution_count": 61,
   "metadata": {},
   "outputs": [
    {
     "name": "stdout",
     "output_type": "stream",
     "text": [
      "('Name', 'Amandeil')\n",
      "('DOJ', '20-20.02')\n",
      "('DOE', '12.12.21')\n",
      "Name\n",
      "DOJ\n",
      "DOE\n"
     ]
    }
   ],
   "source": [
    "employee_info = {'Name':'Amandeil', 'DOJ':'20-20.02','DOE': '12.12.21'} \n",
    "for emp in employee_info.items():\n",
    "    print(emp)\n",
    "    \n",
    "for emp1 in employee_info:\n",
    "    print(emp1)"
   ]
  },
  {
   "cell_type": "code",
   "execution_count": 65,
   "metadata": {},
   "outputs": [
    {
     "ename": "SyntaxError",
     "evalue": "invalid syntax (<ipython-input-65-2dfaf9296337>, line 2)",
     "output_type": "error",
     "traceback": [
      "\u001b[0;36m  File \u001b[0;32m\"<ipython-input-65-2dfaf9296337>\"\u001b[0;36m, line \u001b[0;32m2\u001b[0m\n\u001b[0;31m    emp = {k,v for k,v in employee_info.items()}\u001b[0m\n\u001b[0m                 ^\u001b[0m\n\u001b[0;31mSyntaxError\u001b[0m\u001b[0;31m:\u001b[0m invalid syntax\n"
     ]
    }
   ],
   "source": [
    "employee_info = {'Name':'Amandeil', 'DOJ':'20-20.02','DOE': '12.12.21'} \n",
    "emp = {k,v for k,v in employee_info.items()}\n",
    "print(emp)"
   ]
  },
  {
   "cell_type": "code",
   "execution_count": 66,
   "metadata": {},
   "outputs": [
    {
     "name": "stdout",
     "output_type": "stream",
     "text": [
      "{'Name': 'Amandeil', 'DOJ': '20-20.02', 'DOE': '12.12.21'}\n"
     ]
    }
   ],
   "source": [
    "employee_info = {'Name':'Amandeil', 'DOJ':'20-20.02','DOE': '12.12.21'} \n",
    "emp = {k:v for k,v in employee_info.items()}\n",
    "print(emp)"
   ]
  },
  {
   "cell_type": "code",
   "execution_count": 67,
   "metadata": {},
   "outputs": [
    {
     "name": "stdout",
     "output_type": "stream",
     "text": [
      "{'NameC': 'AmandeilAmandeil', 'DOJC': '20-20.0220-20.02', 'DOEC': '12.12.2112.12.21'}\n"
     ]
    }
   ],
   "source": [
    "employee_info = {'Name':'Amandeil', 'DOJ':'20-20.02','DOE': '12.12.21'} \n",
    "emp = {k + 'C': v*2 for k,v in employee_info.items()}\n",
    "print(emp)"
   ]
  },
  {
   "cell_type": "code",
   "execution_count": 68,
   "metadata": {},
   "outputs": [],
   "source": [
    "# Strings"
   ]
  },
  {
   "cell_type": "code",
   "execution_count": null,
   "metadata": {},
   "outputs": [],
   "source": [
    "- String are sequence of characters in unicode by default in python"
   ]
  },
  {
   "cell_type": "code",
   "execution_count": 70,
   "metadata": {},
   "outputs": [
    {
     "name": "stdout",
     "output_type": "stream",
     "text": [
      "Abc\n",
      "Bcd\n",
      "Dce\n"
     ]
    }
   ],
   "source": [
    "new_string = 'Abc'\n",
    "print(new_string)\n",
    "\n",
    "nwe_string = \"Bcd\"\n",
    "print(nwe_string)\n",
    "\n",
    "enw_string = '''Dce'''\n",
    "print(enw_string)\n"
   ]
  },
  {
   "cell_type": "code",
   "execution_count": 71,
   "metadata": {},
   "outputs": [
    {
     "name": "stdout",
     "output_type": "stream",
     "text": [
      "A\n",
      "f\n",
      "cd\n"
     ]
    }
   ],
   "source": [
    "new_string = 'Abcdef'\n",
    "print(new_string[0])\n",
    "print(new_string[-1])\n",
    "print(new_string[2:4])"
   ]
  },
  {
   "cell_type": "code",
   "execution_count": 72,
   "metadata": {},
   "outputs": [
    {
     "ename": "IndexError",
     "evalue": "string index out of range",
     "output_type": "error",
     "traceback": [
      "\u001b[0;31m---------------------------------------------------------------------------\u001b[0m",
      "\u001b[0;31mIndexError\u001b[0m                                Traceback (most recent call last)",
      "\u001b[0;32m<ipython-input-72-f4299ac39a8c>\u001b[0m in \u001b[0;36m<module>\u001b[0;34m\u001b[0m\n\u001b[1;32m      1\u001b[0m \u001b[0mnew_string\u001b[0m \u001b[0;34m=\u001b[0m \u001b[0;34m'Abcdef'\u001b[0m\u001b[0;34m\u001b[0m\u001b[0;34m\u001b[0m\u001b[0m\n\u001b[0;32m----> 2\u001b[0;31m \u001b[0mprint\u001b[0m\u001b[0;34m(\u001b[0m\u001b[0mnew_string\u001b[0m\u001b[0;34m[\u001b[0m\u001b[0;36m7\u001b[0m\u001b[0;34m]\u001b[0m\u001b[0;34m)\u001b[0m\u001b[0;34m\u001b[0m\u001b[0;34m\u001b[0m\u001b[0m\n\u001b[0m",
      "\u001b[0;31mIndexError\u001b[0m: string index out of range"
     ]
    }
   ],
   "source": [
    "new_string = 'Abcdef'\n",
    "print(new_string[7])"
   ]
  },
  {
   "cell_type": "code",
   "execution_count": null,
   "metadata": {},
   "outputs": [],
   "source": [
    "- String are immutable"
   ]
  },
  {
   "cell_type": "code",
   "execution_count": 73,
   "metadata": {},
   "outputs": [
    {
     "ename": "TypeError",
     "evalue": "'str' object does not support item assignment",
     "output_type": "error",
     "traceback": [
      "\u001b[0;31m---------------------------------------------------------------------------\u001b[0m",
      "\u001b[0;31mTypeError\u001b[0m                                 Traceback (most recent call last)",
      "\u001b[0;32m<ipython-input-73-0a89954d987a>\u001b[0m in \u001b[0;36m<module>\u001b[0;34m\u001b[0m\n\u001b[1;32m      1\u001b[0m \u001b[0mnew_string\u001b[0m \u001b[0;34m=\u001b[0m \u001b[0;34m'Abcdef'\u001b[0m\u001b[0;34m\u001b[0m\u001b[0;34m\u001b[0m\u001b[0m\n\u001b[0;32m----> 2\u001b[0;31m \u001b[0mnew_string\u001b[0m\u001b[0;34m[\u001b[0m\u001b[0;36m0\u001b[0m\u001b[0;34m]\u001b[0m\u001b[0;34m=\u001b[0m\u001b[0;34m'D'\u001b[0m\u001b[0;34m\u001b[0m\u001b[0;34m\u001b[0m\u001b[0m\n\u001b[0m",
      "\u001b[0;31mTypeError\u001b[0m: 'str' object does not support item assignment"
     ]
    }
   ],
   "source": [
    "new_string = 'Abcdef'\n",
    "new_string[0]='D'"
   ]
  },
  {
   "cell_type": "code",
   "execution_count": 75,
   "metadata": {},
   "outputs": [
    {
     "ename": "NameError",
     "evalue": "name 'new_string' is not defined",
     "output_type": "error",
     "traceback": [
      "\u001b[0;31m---------------------------------------------------------------------------\u001b[0m",
      "\u001b[0;31mNameError\u001b[0m                                 Traceback (most recent call last)",
      "\u001b[0;32m<ipython-input-75-78385fc7f1df>\u001b[0m in \u001b[0;36m<module>\u001b[0;34m\u001b[0m\n\u001b[1;32m      1\u001b[0m \u001b[0mnew_string\u001b[0m \u001b[0;34m=\u001b[0m \u001b[0;34m'Abcdef'\u001b[0m\u001b[0;34m\u001b[0m\u001b[0;34m\u001b[0m\u001b[0m\n\u001b[1;32m      2\u001b[0m \u001b[0;32mdel\u001b[0m \u001b[0mnew_string\u001b[0m\u001b[0;34m\u001b[0m\u001b[0;34m\u001b[0m\u001b[0m\n\u001b[0;32m----> 3\u001b[0;31m \u001b[0mprint\u001b[0m\u001b[0;34m(\u001b[0m\u001b[0mnew_string\u001b[0m\u001b[0;34m)\u001b[0m\u001b[0;34m\u001b[0m\u001b[0;34m\u001b[0m\u001b[0m\n\u001b[0m",
      "\u001b[0;31mNameError\u001b[0m: name 'new_string' is not defined"
     ]
    }
   ],
   "source": [
    "new_string = 'Abcdef'\n",
    "del new_string\n",
    "print(new_string)"
   ]
  },
  {
   "cell_type": "code",
   "execution_count": 81,
   "metadata": {},
   "outputs": [
    {
     "name": "stdout",
     "output_type": "stream",
     "text": [
      "Abcdefghij\n",
      "AbcdefAbcdef\n",
      "AbcdefghijAbcdefghij\n"
     ]
    }
   ],
   "source": [
    "new_string = 'Abcdef'\n",
    "another_string = 'ghij'\n",
    "\n",
    "s1 = new_string + another_string\n",
    "print(s1)\n",
    "\n",
    "s1 = new_string * 2\n",
    "print(s1)\n",
    "\n",
    "s1 = new_string + another_string\n",
    "print(s1 *2)\n"
   ]
  },
  {
   "cell_type": "code",
   "execution_count": 84,
   "metadata": {},
   "outputs": [
    {
     "name": "stdout",
     "output_type": "stream",
     "text": [
      "2\n"
     ]
    }
   ],
   "source": [
    "new = 'Another world'                     # number of times a character repeated\n",
    "times_repeated = 0\n",
    "for i in new:\n",
    "    #times_repeated = 0\n",
    "    if i == 'o':\n",
    "        times_repeated +=1 \n",
    "print(times_repeated)        "
   ]
  },
  {
   "cell_type": "code",
   "execution_count": 94,
   "metadata": {},
   "outputs": [
    {
     "name": "stdout",
     "output_type": "stream",
     "text": [
      "A QUICK BROWN FOX JUMPED OVER A LAZY DOG\n",
      "---------------------------------------\n",
      "a quick brown fox jumped over a lazy dog\n",
      "---------------------------------------\n",
      "['A', 'quick', 'brown', 'fox', 'jumped', 'over', 'a', 'lazy', 'dog']\n",
      "---------------------------------------\n",
      "Aquickbrownfoxjumpedoveralazydog\n",
      "---------------------------------------\n",
      "A quick brown fox jumped over a lazy dog\n",
      "---------------------------------------\n",
      ",A, ,q,u,i,c,k, ,b,r,o,w,n, ,f,o,x, ,j,u,m,p,e,d, ,o,v,e,r, ,a, ,l,a,z,y, ,d,o,g,\n",
      "---------------------------------------\n",
      "18\n",
      "---------------------------------------\n"
     ]
    }
   ],
   "source": [
    "## String methods\n",
    "\n",
    "univ = 'A quick brown fox jumped over a lazy dog'\n",
    "print(univ.upper())\n",
    "print('---------------------------------------')\n",
    "print(univ.lower())\n",
    "print('---------------------------------------')\n",
    "print(univ.split())\n",
    "print('---------------------------------------')\n",
    "print(''.join(univ.split()))\n",
    "print('---------------------------------------')\n",
    "print(\" \".join(univ.split()))\n",
    "print('---------------------------------------')\n",
    "print(univ.replace('',','))\n",
    "print('---------------------------------------')\n",
    "print(univ.find('ju'))\n",
    "print('---------------------------------------')"
   ]
  },
  {
   "cell_type": "code",
   "execution_count": 96,
   "metadata": {},
   "outputs": [
    {
     "name": "stdout",
     "output_type": "stream",
     "text": [
      "Not a palindrome\n"
     ]
    }
   ],
   "source": [
    "### check a string is palindrme or not\n",
    "\n",
    "str = 'Adam'\n",
    "\n",
    "new_str = reversed(str)\n",
    "\n",
    "if list(str) == list(new_str):\n",
    "    print('String is palindrme')\n",
    "else:\n",
    "    print('Not a palindrome')"
   ]
  },
  {
   "cell_type": "code",
   "execution_count": 100,
   "metadata": {},
   "outputs": [
    {
     "name": "stdout",
     "output_type": "stream",
     "text": [
      "A\n",
      "a\n",
      "brown\n",
      "dog\n",
      "fox\n",
      "jumped\n",
      "lazy\n",
      "over\n",
      "quick\n"
     ]
    }
   ],
   "source": [
    "## Arrange the sentence in alphabetical order\n",
    "\n",
    "univ = 'A quick brown fox jumped over a lazy dog'\n",
    "new_s = univ.split()\n",
    "new_s.sort()\n",
    "for new in new_s:\n",
    "    print(new)"
   ]
  },
  {
   "cell_type": "code",
   "execution_count": null,
   "metadata": {},
   "outputs": [],
   "source": []
  }
 ],
 "metadata": {
  "kernelspec": {
   "display_name": "Python 3",
   "language": "python",
   "name": "python3"
  },
  "language_info": {
   "codemirror_mode": {
    "name": "ipython",
    "version": 3
   },
   "file_extension": ".py",
   "mimetype": "text/x-python",
   "name": "python",
   "nbconvert_exporter": "python",
   "pygments_lexer": "ipython3",
   "version": "3.7.3"
  }
 },
 "nbformat": 4,
 "nbformat_minor": 2
}
